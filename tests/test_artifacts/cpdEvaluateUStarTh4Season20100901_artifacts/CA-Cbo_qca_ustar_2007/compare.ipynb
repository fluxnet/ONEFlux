{
 "cells": [
  {
   "cell_type": "code",
   "execution_count": 1,
   "metadata": {},
   "outputs": [],
   "source": [
    "import numpy as np\n",
    "import json\n"
   ]
  },
  {
   "cell_type": "code",
   "execution_count": 18,
   "metadata": {},
   "outputs": [],
   "source": [
    "artifacts_dir = 'tests/test_artifacts/cpdEvaluateUStarTh4Season20100901_artifacts' \n",
    "\n",
    "expected_xStats2 = \"output_xStats2.json\"\n",
    "expected_xStats2a = \"output_xStats2.json\"\n",
    "\n",
    "with open(expected_xStats2, 'r') as f:\n",
    "    expected_xStats2 = json.load(f)\n",
    "\n",
    "with open(expected_xStats2a, 'r') as f:\n",
    "    expected_xStats2a = json.load(f)"
   ]
  },
  {
   "cell_type": "code",
   "execution_count": 19,
   "metadata": {},
   "outputs": [],
   "source": [
    "def json_to_numpy(data):\n",
    "    \n",
    "    all_arrays = []\n",
    "    for record_group in data:  # Handle nested lists in the JSON\n",
    "        group_arrays = []\n",
    "        for record in record_group:\n",
    "            array = np.array(list(record.values()), dtype=float)  # Convert to numpy array\n",
    "            group_arrays.append(array)\n",
    "        all_arrays.append(np.array(group_arrays))  # Group into a 2D array for each group\n",
    "    return np.array(all_arrays)"
   ]
  },
  {
   "cell_type": "code",
   "execution_count": 22,
   "metadata": {},
   "outputs": [
    {
     "data": {
      "text/plain": [
       "True"
      ]
     },
     "execution_count": 22,
     "metadata": {},
     "output_type": "execute_result"
    }
   ],
   "source": [
    "np.allclose(json_to_numpy(expected_xStats2),json_to_numpy(expected_xStats2a), equal_nan=True)"
   ]
  },
  {
   "cell_type": "code",
   "execution_count": null,
   "metadata": {},
   "outputs": [],
   "source": []
  }
 ],
 "metadata": {
  "kernelspec": {
   "display_name": "nemo",
   "language": "python",
   "name": "python3"
  },
  "language_info": {
   "codemirror_mode": {
    "name": "ipython",
    "version": 3
   },
   "file_extension": ".py",
   "mimetype": "text/x-python",
   "name": "python",
   "nbconvert_exporter": "python",
   "pygments_lexer": "ipython3",
   "version": "3.9.19"
  }
 },
 "nbformat": 4,
 "nbformat_minor": 2
}
